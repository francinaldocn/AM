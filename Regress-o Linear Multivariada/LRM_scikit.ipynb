{
 "cells": [
  {
   "cell_type": "markdown",
   "metadata": {},
   "source": [
    "# Implementando Regressão Múltipla do Zero\n",
    "\n",
    "Nessa tarefa você vai estender sua implementação da tarefa passada para considerar múltiplas variáveis. Você pode estender a versão vetorizada implementada [neste notebook](https://canvas.instructure.com/courses/1389733/files/68372962/download?verifier=jx3MnZn2ltc955iEt69PwjkzJvBiuQyUNXwGA9gl&wrap=1) para regressão simples. \n",
    "\n",
    "- Rode o algoritmo [nesses dados](https://canvas.instructure.com/courses/1389733/files/68372968/download?verifier=9Qm2NF62mBNlbfeLJWfrzjGl6qvS0eIuX3kOGNAU&wrap=1), onde as linhas representam as notas de alunos de computação de alunos da UFCG em algumas disciplinas do primeiro período. A última coluna é a variável alvo representando o CRA final depois de concluir o curso. As outras colunas são algumas disciplinas do primeiro período. O pressuposto aqui é que as notas em disciplinas no primeiro período ajudam a explicar o CRA final dos alunos de computação.\n",
    "\n",
    "- Compare o valor dos coeficientes estimados pelo seu algoritmo com o valor dos coeficientes da regressão linear do scikit learn para testar se o seu algoritmo está funcionando corretamente.\n",
    "\n",
    "A entrega deve ser o link no seu github para o notebook Jupyter com código python e texto explicativo quando necessário. De preferência, crie um repositório na sua conta do github e envie o link do html do notebook."
   ]
  },
  {
   "cell_type": "markdown",
   "metadata": {},
   "source": [
    "## Implementação utilizando a biblioteca scikit-learn"
   ]
  },
  {
   "cell_type": "markdown",
   "metadata": {},
   "source": [
    "### Com a biblioteca numpy"
   ]
  },
  {
   "cell_type": "code",
   "execution_count": 62,
   "metadata": {},
   "outputs": [],
   "source": [
    "import numpy as np\n",
    "import matplotlib.pyplot as plt\n",
    "import seaborn as sns\n",
    "%matplotlib inline"
   ]
  },
  {
   "cell_type": "code",
   "execution_count": 74,
   "metadata": {},
   "outputs": [],
   "source": [
    "points = np.genfromtxt('sample_treino.csv', delimiter=',')"
   ]
  },
  {
   "cell_type": "code",
   "execution_count": 64,
   "metadata": {},
   "outputs": [],
   "source": [
    "# Arrays x e y"
   ]
  },
  {
   "cell_type": "code",
   "execution_count": 65,
   "metadata": {},
   "outputs": [],
   "source": [
    "# Parametros\n",
    "X = points[1:, :-1]\n",
    "y = points[1:,-1]"
   ]
  },
  {
   "cell_type": "code",
   "execution_count": 66,
   "metadata": {},
   "outputs": [],
   "source": [
    "from sklearn.linear_model import LinearRegression"
   ]
  },
  {
   "cell_type": "code",
   "execution_count": 67,
   "metadata": {},
   "outputs": [],
   "source": [
    "lm = LinearRegression()"
   ]
  },
  {
   "cell_type": "code",
   "execution_count": 68,
   "metadata": {},
   "outputs": [
    {
     "data": {
      "text/plain": [
       "LinearRegression(copy_X=True, fit_intercept=True, n_jobs=1, normalize=False)"
      ]
     },
     "execution_count": 68,
     "metadata": {},
     "output_type": "execute_result"
    }
   ],
   "source": [
    "lm.fit(X, y)"
   ]
  },
  {
   "cell_type": "code",
   "execution_count": 69,
   "metadata": {},
   "outputs": [],
   "source": [
    "### Avaliação do modelo"
   ]
  },
  {
   "cell_type": "code",
   "execution_count": 70,
   "metadata": {},
   "outputs": [
    {
     "name": "stdout",
     "output_type": "stream",
     "text": [
      "1.737711513794439\n"
     ]
    }
   ],
   "source": [
    "print(lm.intercept_)"
   ]
  },
  {
   "cell_type": "code",
   "execution_count": 161,
   "metadata": {},
   "outputs": [
    {
     "name": "stdout",
     "output_type": "stream",
     "text": [
      "Coeficientes\n",
      "Cálculo1 : 0.103041\n",
      "LPT : 0.046437\n",
      "P1 : 0.164098\n",
      "IC : 0.381178\n",
      "Cálculo2 : 0.020278\n"
     ]
    }
   ],
   "source": [
    "print('Coeficientes')\n",
    "atributo = np.array(['Cálculo1','LPT','P1','IC','Cálculo2'])\n",
    "for i in range(0,5):\n",
    "    print(atributo[i],\":\",round(lm.coef_[i],6))"
   ]
  },
  {
   "cell_type": "markdown",
   "metadata": {},
   "source": [
    "### Forma da regressão linear multivariada para o dataset\n",
    "\n",
    " $\\hat{y}$ = 1.737711513794439 + 0.103041$\\cdot$**Cálculo1** + 0.046437$\\cdot$**LPT** + 0.164098$\\cdot$**P1** + 0.381178$\\cdot$**IC** + 0.020278$\\cdot$**Cálculo2**"
   ]
  },
  {
   "cell_type": "markdown",
   "metadata": {},
   "source": [
    "Interpretando os coeficientes:\n",
    "\n",
    "- Mantendo todas as outras variáveis constantes, um aumento de 1 unidade em **Cálculo1** está associado a um **aumento de 0.103041** no CRA.\n",
    "- Mantendo todas as outras variáveis constantes, um aumento de 1 unidade em **LPT** está associada a um **aumento de 0.046437** no CRA.\n",
    "- Mantendo todas as outras variáveis constantes, um aumento de 1 unidade em **P1** está associada a um **aumento de 0.164098** no CRA.\n",
    "- Mantendo todas as outras variáveis constantes, um aumento de 1 unidade em **IC** está associada a um **aumento de 0.381178** no CRA.\n",
    "- Mantendo todas as outras variáveis constantes, um aumento de 1 unidade em **Cálculo2** está associado a um **aumento de 0.020278** no CRA."
   ]
  },
  {
   "cell_type": "markdown",
   "metadata": {},
   "source": [
    "### Com a biblioteca pandas"
   ]
  },
  {
   "cell_type": "code",
   "execution_count": 61,
   "metadata": {},
   "outputs": [],
   "source": [
    "import pandas as pd\n",
    "import numpy as np\n",
    "import matplotlib.pyplot as plt\n",
    "import seaborn as sns\n",
    "%matplotlib inline"
   ]
  },
  {
   "cell_type": "code",
   "execution_count": 73,
   "metadata": {},
   "outputs": [],
   "source": [
    "points2 = pd.read_csv('sample_treino.csv')"
   ]
  },
  {
   "cell_type": "code",
   "execution_count": 78,
   "metadata": {},
   "outputs": [
    {
     "data": {
      "text/plain": [
       "Index(['Cálculo1', 'LPT', 'P1', 'IC', 'Cálculo2', 'cra'], dtype='object')"
      ]
     },
     "execution_count": 78,
     "metadata": {},
     "output_type": "execute_result"
    }
   ],
   "source": [
    "points2.columns"
   ]
  },
  {
   "cell_type": "code",
   "execution_count": 79,
   "metadata": {},
   "outputs": [],
   "source": [
    "# Parametros\n",
    "X1 = points2[['Cálculo1', 'LPT', 'P1', 'IC', 'Cálculo2']]\n",
    "y1 = points2['cra']"
   ]
  },
  {
   "cell_type": "code",
   "execution_count": 80,
   "metadata": {},
   "outputs": [],
   "source": [
    "from sklearn.linear_model import LinearRegression"
   ]
  },
  {
   "cell_type": "code",
   "execution_count": 81,
   "metadata": {},
   "outputs": [],
   "source": [
    "lm2 = LinearRegression()"
   ]
  },
  {
   "cell_type": "code",
   "execution_count": 82,
   "metadata": {},
   "outputs": [
    {
     "data": {
      "text/plain": [
       "LinearRegression(copy_X=True, fit_intercept=True, n_jobs=1, normalize=False)"
      ]
     },
     "execution_count": 82,
     "metadata": {},
     "output_type": "execute_result"
    }
   ],
   "source": [
    "lm2.fit(X1, y1)"
   ]
  },
  {
   "cell_type": "code",
   "execution_count": 83,
   "metadata": {},
   "outputs": [
    {
     "name": "stdout",
     "output_type": "stream",
     "text": [
      "1.7377115137944363\n"
     ]
    }
   ],
   "source": [
    "print(lm2.intercept_)"
   ]
  },
  {
   "cell_type": "code",
   "execution_count": 162,
   "metadata": {},
   "outputs": [
    {
     "data": {
      "text/html": [
       "<div>\n",
       "<style scoped>\n",
       "    .dataframe tbody tr th:only-of-type {\n",
       "        vertical-align: middle;\n",
       "    }\n",
       "\n",
       "    .dataframe tbody tr th {\n",
       "        vertical-align: top;\n",
       "    }\n",
       "\n",
       "    .dataframe thead th {\n",
       "        text-align: right;\n",
       "    }\n",
       "</style>\n",
       "<table border=\"1\" class=\"dataframe\">\n",
       "  <thead>\n",
       "    <tr style=\"text-align: right;\">\n",
       "      <th></th>\n",
       "      <th>Coefficient</th>\n",
       "    </tr>\n",
       "  </thead>\n",
       "  <tbody>\n",
       "    <tr>\n",
       "      <th>Cálculo1</th>\n",
       "      <td>0.103041</td>\n",
       "    </tr>\n",
       "    <tr>\n",
       "      <th>LPT</th>\n",
       "      <td>0.046437</td>\n",
       "    </tr>\n",
       "    <tr>\n",
       "      <th>P1</th>\n",
       "      <td>0.164098</td>\n",
       "    </tr>\n",
       "    <tr>\n",
       "      <th>IC</th>\n",
       "      <td>0.381178</td>\n",
       "    </tr>\n",
       "    <tr>\n",
       "      <th>Cálculo2</th>\n",
       "      <td>0.020278</td>\n",
       "    </tr>\n",
       "  </tbody>\n",
       "</table>\n",
       "</div>"
      ],
      "text/plain": [
       "          Coefficient\n",
       "Cálculo1     0.103041\n",
       "LPT          0.046437\n",
       "P1           0.164098\n",
       "IC           0.381178\n",
       "Cálculo2     0.020278"
      ]
     },
     "execution_count": 162,
     "metadata": {},
     "output_type": "execute_result"
    }
   ],
   "source": [
    "coeff_points = pd.DataFrame(lm2.coef_,X1.columns,columns=['Coefficient'])\n",
    "coeff_points"
   ]
  },
  {
   "cell_type": "markdown",
   "metadata": {},
   "source": [
    "### Forma da regressão linear multivariada para o dataset\n",
    "\n",
    " $\\hat{y}$ = 1.737711513794439 + 0.103041$\\cdot$**Cálculo1** + 0.046437$\\cdot$**LPT** + 0.164098$\\cdot$**P1** + 0.381178$\\cdot$**IC** + 0.020278$\\cdot$**Cálculo2**"
   ]
  },
  {
   "cell_type": "markdown",
   "metadata": {},
   "source": [
    "Interpretando os coeficientes:\n",
    "\n",
    "- Mantendo todas as outras variáveis constantes, um aumento de 1 unidade em **Cálculo1** está associado a um **aumento de 0.103041** no CRA.\n",
    "- Mantendo todas as outras variáveis constantes, um aumento de 1 unidade em **LPT** está associada a um **aumento de 0.046437** no CRA.\n",
    "- Mantendo todas as outras variáveis constantes, um aumento de 1 unidade em **P1** está associada a um **aumento de 0.164098** no CRA.\n",
    "- Mantendo todas as outras variáveis constantes, um aumento de 1 unidade em **IC** está associada a um **aumento de 0.381178** no CRA.\n",
    "- Mantendo todas as outras variáveis constantes, um aumento de 1 unidade em **Cálculo2** está associado a um **aumento de 0.020278** no CRA."
   ]
  },
  {
   "cell_type": "code",
   "execution_count": null,
   "metadata": {},
   "outputs": [],
   "source": []
  }
 ],
 "metadata": {
  "kernelspec": {
   "display_name": "Python 3",
   "language": "python",
   "name": "python3"
  },
  "language_info": {
   "codemirror_mode": {
    "name": "ipython",
    "version": 3
   },
   "file_extension": ".py",
   "mimetype": "text/x-python",
   "name": "python",
   "nbconvert_exporter": "python",
   "pygments_lexer": "ipython3",
   "version": "3.5.2"
  }
 },
 "nbformat": 4,
 "nbformat_minor": 2
}
